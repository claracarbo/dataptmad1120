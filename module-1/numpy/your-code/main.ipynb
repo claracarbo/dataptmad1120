{
 "cells": [
  {
   "cell_type": "markdown",
   "metadata": {},
   "source": [
    "# Introduction to NumPy\n",
    "\n",
    "\n",
    "#### 1. Import NumPy under the name np."
   ]
  },
  {
   "cell_type": "code",
   "execution_count": 1,
   "metadata": {},
   "outputs": [],
   "source": [
    "# your code here\n",
    "import numpy as np"
   ]
  },
  {
   "cell_type": "markdown",
   "metadata": {},
   "source": [
    "#### 2. Print your NumPy version."
   ]
  },
  {
   "cell_type": "code",
   "execution_count": 4,
   "metadata": {},
   "outputs": [
    {
     "name": "stdout",
     "output_type": "stream",
     "text": [
      "1.18.1\n"
     ]
    }
   ],
   "source": [
    "# your code here\n",
    "print(np.__version__)"
   ]
  },
  {
   "cell_type": "markdown",
   "metadata": {},
   "source": [
    "#### 3. Generate a 2x3x5 3-dimensional array with random values. Assign the array to variable *a*.\n",
    "**Challenge**: there are at least three easy ways that use numpy to generate random arrays. How many ways can you find?"
   ]
  },
  {
   "cell_type": "code",
   "execution_count": 6,
   "metadata": {},
   "outputs": [
    {
     "name": "stdout",
     "output_type": "stream",
     "text": [
      "[[[0.14978246 0.19765412 0.14656057 0.6618787  0.80027451]\n",
      "  [0.7278355  0.26264704 0.88971376 0.80424364 0.54726903]\n",
      "  [0.72785209 0.48979856 0.7315224  0.31204926 0.80778323]]\n",
      "\n",
      " [[0.68924883 0.26548653 0.26604048 0.66428958 0.34479513]\n",
      "  [0.95683473 0.81127648 0.65369969 0.89646236 0.33906893]\n",
      "  [0.51623356 0.88798509 0.44313929 0.92874159 0.75611556]]]\n"
     ]
    }
   ],
   "source": [
    "# Method 1\n",
    "\n",
    "a= np.random.random((2,3,5))\n",
    "print(a)"
   ]
  },
  {
   "cell_type": "code",
   "execution_count": 12,
   "metadata": {},
   "outputs": [
    {
     "name": "stdout",
     "output_type": "stream",
     "text": [
      "[[[0.15752812 0.41801721 0.7027166  0.25403464 0.07638126]\n",
      "  [0.9077705  0.675806   0.78612397 0.11374168 0.62013207]\n",
      "  [0.438825   0.7623685  0.20130619 0.39720594 0.37416174]]\n",
      "\n",
      " [[0.02079737 0.29676562 0.16056536 0.47119213 0.02530446]\n",
      "  [0.11119213 0.21520939 0.51411752 0.60450142 0.49322699]\n",
      "  [0.40383921 0.28545978 0.45964335 0.15234182 0.73446495]]]\n"
     ]
    }
   ],
   "source": [
    "# Method 2\n",
    "\n",
    "a2= np.random.sample((2,3,5))\n",
    "print(a2)"
   ]
  },
  {
   "cell_type": "code",
   "execution_count": 14,
   "metadata": {},
   "outputs": [
    {
     "name": "stdout",
     "output_type": "stream",
     "text": [
      "[[[0.21779254 0.41104408 0.41201606 0.24386135 0.74530415]\n",
      "  [0.02072839 0.6185687  0.13480476 0.47884885 0.31430471]\n",
      "  [0.74644983 0.20880815 0.05614162 0.36569314 0.47365424]]\n",
      "\n",
      " [[0.15934946 0.88294274 0.06653401 0.5052153  0.88389437]\n",
      "  [0.77257862 0.88206931 0.98812666 0.93624273 0.99555152]\n",
      "  [0.45727245 0.63840381 0.3084313  0.12784091 0.45921425]]]\n"
     ]
    }
   ],
   "source": [
    "# Method 3\n",
    "\n",
    "a3= np.random.rand(2,3,5)\n",
    "print(a3)"
   ]
  },
  {
   "cell_type": "markdown",
   "metadata": {},
   "source": [
    "#### 4. Print *a*.\n"
   ]
  },
  {
   "cell_type": "code",
   "execution_count": 15,
   "metadata": {},
   "outputs": [
    {
     "name": "stdout",
     "output_type": "stream",
     "text": [
      "[[[0.14978246 0.19765412 0.14656057 0.6618787  0.80027451]\n",
      "  [0.7278355  0.26264704 0.88971376 0.80424364 0.54726903]\n",
      "  [0.72785209 0.48979856 0.7315224  0.31204926 0.80778323]]\n",
      "\n",
      " [[0.68924883 0.26548653 0.26604048 0.66428958 0.34479513]\n",
      "  [0.95683473 0.81127648 0.65369969 0.89646236 0.33906893]\n",
      "  [0.51623356 0.88798509 0.44313929 0.92874159 0.75611556]]]\n"
     ]
    }
   ],
   "source": [
    "# your code here\n",
    "print(a)"
   ]
  },
  {
   "cell_type": "markdown",
   "metadata": {},
   "source": [
    "#### 5. Create a 5x2x3 3-dimensional array with all values equaling 1. Assign the array to variable *b*."
   ]
  },
  {
   "cell_type": "code",
   "execution_count": 16,
   "metadata": {},
   "outputs": [],
   "source": [
    "# your code here\n",
    "\n",
    "b=np.ones((5,2,3))"
   ]
  },
  {
   "cell_type": "markdown",
   "metadata": {},
   "source": [
    "#### 6. Print *b*.\n"
   ]
  },
  {
   "cell_type": "code",
   "execution_count": 17,
   "metadata": {},
   "outputs": [
    {
     "name": "stdout",
     "output_type": "stream",
     "text": [
      "[[[1. 1. 1.]\n",
      "  [1. 1. 1.]]\n",
      "\n",
      " [[1. 1. 1.]\n",
      "  [1. 1. 1.]]\n",
      "\n",
      " [[1. 1. 1.]\n",
      "  [1. 1. 1.]]\n",
      "\n",
      " [[1. 1. 1.]\n",
      "  [1. 1. 1.]]\n",
      "\n",
      " [[1. 1. 1.]\n",
      "  [1. 1. 1.]]]\n"
     ]
    }
   ],
   "source": [
    "# your code here\n",
    "\n",
    "print(b)"
   ]
  },
  {
   "cell_type": "markdown",
   "metadata": {},
   "source": [
    "#### 7. Do *a* and *b* have the same size? How do you prove that in Python code?"
   ]
  },
  {
   "cell_type": "code",
   "execution_count": 20,
   "metadata": {},
   "outputs": [
    {
     "data": {
      "text/plain": [
       "True"
      ]
     },
     "execution_count": 20,
     "metadata": {},
     "output_type": "execute_result"
    }
   ],
   "source": [
    "# your code here\n",
    "size_a = a.size\n",
    "size_b = b.size\n",
    "size_a == size_b\n",
    "\n",
    "#Yes, they have the same size"
   ]
  },
  {
   "cell_type": "markdown",
   "metadata": {},
   "source": [
    "#### 8. Are you able to add *a* and *b*? Why or why not?\n"
   ]
  },
  {
   "cell_type": "code",
   "execution_count": 22,
   "metadata": {},
   "outputs": [
    {
     "ename": "ValueError",
     "evalue": "operands could not be broadcast together with shapes (2,3,5) (5,2,3) ",
     "output_type": "error",
     "traceback": [
      "\u001b[0;31m---------------------------------------------------------------------------\u001b[0m",
      "\u001b[0;31mValueError\u001b[0m                                Traceback (most recent call last)",
      "\u001b[0;32m<ipython-input-22-6ae197a60243>\u001b[0m in \u001b[0;36m<module>\u001b[0;34m\u001b[0m\n\u001b[1;32m      1\u001b[0m \u001b[0;31m# your answer here\u001b[0m\u001b[0;34m\u001b[0m\u001b[0;34m\u001b[0m\u001b[0;34m\u001b[0m\u001b[0m\n\u001b[1;32m      2\u001b[0m \u001b[0;34m\u001b[0m\u001b[0m\n\u001b[0;32m----> 3\u001b[0;31m \u001b[0ma_b\u001b[0m \u001b[0;34m=\u001b[0m \u001b[0mnp\u001b[0m\u001b[0;34m.\u001b[0m\u001b[0madd\u001b[0m\u001b[0;34m(\u001b[0m\u001b[0ma\u001b[0m\u001b[0;34m,\u001b[0m\u001b[0mb\u001b[0m\u001b[0;34m)\u001b[0m\u001b[0;34m\u001b[0m\u001b[0;34m\u001b[0m\u001b[0m\n\u001b[0m\u001b[1;32m      4\u001b[0m \u001b[0mprint\u001b[0m\u001b[0;34m(\u001b[0m\u001b[0ma\u001b[0m\u001b[0;34m,\u001b[0m\u001b[0mb\u001b[0m\u001b[0;34m)\u001b[0m\u001b[0;34m\u001b[0m\u001b[0;34m\u001b[0m\u001b[0m\n",
      "\u001b[0;31mValueError\u001b[0m: operands could not be broadcast together with shapes (2,3,5) (5,2,3) "
     ]
    }
   ],
   "source": [
    "# your answer here\n",
    "\n",
    "a_b = np.add(a,b)\n",
    "print(a,b)\n",
    "\n",
    "#No because they have diferent shapes"
   ]
  },
  {
   "cell_type": "markdown",
   "metadata": {},
   "source": [
    "#### 9. Transpose *b* so that it has the same structure of *a* (i.e. become a 2x3x5 array). Assign the transposed array to variable *c*."
   ]
  },
  {
   "cell_type": "code",
   "execution_count": 23,
   "metadata": {},
   "outputs": [
    {
     "name": "stdout",
     "output_type": "stream",
     "text": [
      "[[[1. 1. 1. 1. 1.]\n",
      "  [1. 1. 1. 1. 1.]\n",
      "  [1. 1. 1. 1. 1.]]\n",
      "\n",
      " [[1. 1. 1. 1. 1.]\n",
      "  [1. 1. 1. 1. 1.]\n",
      "  [1. 1. 1. 1. 1.]]]\n"
     ]
    }
   ],
   "source": [
    "# your code here\n",
    "c=b.transpose(1,2,0)\n",
    "print(c)"
   ]
  },
  {
   "cell_type": "markdown",
   "metadata": {},
   "source": [
    "#### 10. Try to add *a* and *c*. Now it should work. Assign the sum to variable *d*. But why does it work now?"
   ]
  },
  {
   "cell_type": "code",
   "execution_count": 24,
   "metadata": {},
   "outputs": [
    {
     "data": {
      "text/plain": [
       "array([[[1.14978246, 1.19765412, 1.14656057, 1.6618787 , 1.80027451],\n",
       "        [1.7278355 , 1.26264704, 1.88971376, 1.80424364, 1.54726903],\n",
       "        [1.72785209, 1.48979856, 1.7315224 , 1.31204926, 1.80778323]],\n",
       "\n",
       "       [[1.68924883, 1.26548653, 1.26604048, 1.66428958, 1.34479513],\n",
       "        [1.95683473, 1.81127648, 1.65369969, 1.89646236, 1.33906893],\n",
       "        [1.51623356, 1.88798509, 1.44313929, 1.92874159, 1.75611556]]])"
      ]
     },
     "execution_count": 24,
     "metadata": {},
     "output_type": "execute_result"
    }
   ],
   "source": [
    "# your code/answer here\n",
    "\n",
    "d= np.add(a,c)\n",
    "d"
   ]
  },
  {
   "cell_type": "markdown",
   "metadata": {},
   "source": [
    "#### 11. Print *a* and *d*. Notice the difference and relation of the two array in terms of the values? Explain."
   ]
  },
  {
   "cell_type": "code",
   "execution_count": 28,
   "metadata": {},
   "outputs": [
    {
     "name": "stdout",
     "output_type": "stream",
     "text": [
      "[[[0.14978246 0.19765412 0.14656057 0.6618787  0.80027451]\n",
      "  [0.7278355  0.26264704 0.88971376 0.80424364 0.54726903]\n",
      "  [0.72785209 0.48979856 0.7315224  0.31204926 0.80778323]]\n",
      "\n",
      " [[0.68924883 0.26548653 0.26604048 0.66428958 0.34479513]\n",
      "  [0.95683473 0.81127648 0.65369969 0.89646236 0.33906893]\n",
      "  [0.51623356 0.88798509 0.44313929 0.92874159 0.75611556]]]\n",
      "\n",
      "[[[1.14978246 1.19765412 1.14656057 1.6618787  1.80027451]\n",
      "  [1.7278355  1.26264704 1.88971376 1.80424364 1.54726903]\n",
      "  [1.72785209 1.48979856 1.7315224  1.31204926 1.80778323]]\n",
      "\n",
      " [[1.68924883 1.26548653 1.26604048 1.66428958 1.34479513]\n",
      "  [1.95683473 1.81127648 1.65369969 1.89646236 1.33906893]\n",
      "  [1.51623356 1.88798509 1.44313929 1.92874159 1.75611556]]]\n"
     ]
    }
   ],
   "source": [
    "# your code/answer here\n",
    "print(a)\n",
    "print()\n",
    "print(d)"
   ]
  },
  {
   "cell_type": "markdown",
   "metadata": {},
   "source": [
    "#### 12. Multiply *a* and *c*. Assign the result to *e*."
   ]
  },
  {
   "cell_type": "code",
   "execution_count": 30,
   "metadata": {},
   "outputs": [
    {
     "data": {
      "text/plain": [
       "array([[[0.14978246, 0.19765412, 0.14656057, 0.6618787 , 0.80027451],\n",
       "        [0.7278355 , 0.26264704, 0.88971376, 0.80424364, 0.54726903],\n",
       "        [0.72785209, 0.48979856, 0.7315224 , 0.31204926, 0.80778323]],\n",
       "\n",
       "       [[0.68924883, 0.26548653, 0.26604048, 0.66428958, 0.34479513],\n",
       "        [0.95683473, 0.81127648, 0.65369969, 0.89646236, 0.33906893],\n",
       "        [0.51623356, 0.88798509, 0.44313929, 0.92874159, 0.75611556]]])"
      ]
     },
     "execution_count": 30,
     "metadata": {},
     "output_type": "execute_result"
    }
   ],
   "source": [
    "# your code here\n",
    "\n",
    "e= np.multiply(a,c)\n",
    "e"
   ]
  },
  {
   "cell_type": "markdown",
   "metadata": {},
   "source": [
    "#### 13. Does *e* equal to *a*? Why or why not?\n"
   ]
  },
  {
   "cell_type": "code",
   "execution_count": 31,
   "metadata": {},
   "outputs": [
    {
     "data": {
      "text/plain": [
       "array([[[ True,  True,  True,  True,  True],\n",
       "        [ True,  True,  True,  True,  True],\n",
       "        [ True,  True,  True,  True,  True]],\n",
       "\n",
       "       [[ True,  True,  True,  True,  True],\n",
       "        [ True,  True,  True,  True,  True],\n",
       "        [ True,  True,  True,  True,  True]]])"
      ]
     },
     "execution_count": 31,
     "metadata": {},
     "output_type": "execute_result"
    }
   ],
   "source": [
    "# your code/answer here\n",
    "\n",
    "e==a\n",
    "\n",
    "#Yes they are equal because e is a*c and all the values in c are 1"
   ]
  },
  {
   "cell_type": "markdown",
   "metadata": {},
   "source": [
    "#### 14. Identify the max, min, and mean values in *d*. Assign those values to variables *d_max*, *d_min* and *d_mean*."
   ]
  },
  {
   "cell_type": "code",
   "execution_count": 32,
   "metadata": {},
   "outputs": [
    {
     "name": "stdout",
     "output_type": "stream",
     "text": [
      "1.589209422972193\n",
      "1.9568347286706538\n",
      "1.1465605695912604\n"
     ]
    }
   ],
   "source": [
    "# your code here\n",
    "\n",
    "d_mean =np.mean(d)\n",
    "d_max= np.amax(d)\n",
    "d_min= np.amin(d)\n",
    "\n",
    "print(d_mean)\n",
    "print(d_max)\n",
    "print(d_min)"
   ]
  },
  {
   "cell_type": "markdown",
   "metadata": {},
   "source": [
    "#### 15. Now we want to label the values in *d*. First create an empty array *f* with the same shape (i.e. 2x3x5) as *d* using `np.empty`.\n"
   ]
  },
  {
   "cell_type": "code",
   "execution_count": 33,
   "metadata": {},
   "outputs": [
    {
     "name": "stdout",
     "output_type": "stream",
     "text": [
      "(2, 3, 5)\n"
     ]
    }
   ],
   "source": [
    "# your code here\n",
    "\n",
    "f= np.empty((2,3,5))\n",
    "print(f.shape)"
   ]
  },
  {
   "cell_type": "markdown",
   "metadata": {},
   "source": [
    "#### 16. Populate the values in *f*. \n",
    "\n",
    "For each value in *d*, if it's larger than *d_min* but smaller than *d_mean*, assign 25 to the corresponding value in *f*. If a value in *d* is larger than *d_mean* but smaller than *d_max*, assign 75 to the corresponding value in *f*. If a value equals to *d_mean*, assign 50 to the corresponding value in *f*. Assign 0 to the corresponding value(s) in *f* for *d_min* in *d*. Assign 100 to the corresponding value(s) in *f* for *d_max* in *d*. In the end, f should have only the following values: 0, 25, 50, 75, and 100.\n",
    "\n",
    "**Note**: you don't have to use Numpy in this question."
   ]
  },
  {
   "cell_type": "code",
   "execution_count": 65,
   "metadata": {},
   "outputs": [
    {
     "name": "stdout",
     "output_type": "stream",
     "text": [
      "[[[ 25.  25.   0.  75.  75.]\n",
      "  [ 75.  25.  75.  75.  25.]\n",
      "  [ 75.  25.  75.  25.  75.]]\n",
      "\n",
      " [[ 75.  25.  25.  75.  25.]\n",
      "  [100.  75.  75.  75.  25.]\n",
      "  [ 25.  75.  25.  75.  75.]]]\n"
     ]
    }
   ],
   "source": [
    "# your code here\n",
    "\n",
    "for x in range (d.shape[0]):\n",
    "    for y in range(d.shape[1]):\n",
    "        for z in range(d.shape[2]):\n",
    "            if d[x][y][z] > d_min and d[x][y][z] < d_mean:\n",
    "                f[x][y][z] = (25)\n",
    "            elif d[x][y][z] > d_mean and d[x][y][z] < d_max:\n",
    "                f[x][y][z] = (75)\n",
    "            elif d[x][y][z] == d_mean:\n",
    "                f[x][y][z] == (50)\n",
    "            elif d[x][y][z] == d_min:\n",
    "                f[x][y][z]=(0)\n",
    "            elif d[x][y][z] == d_max:\n",
    "                f[x][y][z] = (100)\n",
    "                \n",
    "print(f)"
   ]
  },
  {
   "cell_type": "markdown",
   "metadata": {},
   "source": [
    "#### 17. Print *d* and *f*. Do you have your expected *f*?\n",
    "For instance, if your *d* is:\n",
    "```python\n",
    "[[[1.85836099, 1.67064465, 1.62576044, 1.40243961, 1.88454931],\n",
    "[1.75354326, 1.69403643, 1.36729252, 1.61415071, 1.12104981],\n",
    "[1.72201435, 1.1862918 , 1.87078449, 1.7726778 , 1.88180042]],\n",
    "[[1.44747908, 1.31673383, 1.02000951, 1.52218947, 1.97066381],\n",
    "[1.79129243, 1.74983003, 1.96028037, 1.85166831, 1.65450881],\n",
    "[1.18068344, 1.9587381 , 1.00656599, 1.93402165, 1.73514584]]]\n",
    "```\n",
    "Your *f* should be:\n",
    "```python\n",
    "[[[ 75.,  75.,  75.,  25.,  75.],\n",
    "[ 75.,  75.,  25.,  25.,  25.],\n",
    "[ 75.,  25.,  75.,  75.,  75.]],\n",
    "[[ 25.,  25.,  25.,  25., 100.],\n",
    "[ 75.,  75.,  75.,  75.,  75.],\n",
    "[ 25.,  75.,   0.,  75.,  75.]]]\n",
    "```"
   ]
  },
  {
   "cell_type": "code",
   "execution_count": 66,
   "metadata": {},
   "outputs": [
    {
     "name": "stdout",
     "output_type": "stream",
     "text": [
      "[[[1.14978246 1.19765412 1.14656057 1.6618787  1.80027451]\n",
      "  [1.7278355  1.26264704 1.88971376 1.80424364 1.54726903]\n",
      "  [1.72785209 1.48979856 1.7315224  1.31204926 1.80778323]]\n",
      "\n",
      " [[1.68924883 1.26548653 1.26604048 1.66428958 1.34479513]\n",
      "  [1.95683473 1.81127648 1.65369969 1.89646236 1.33906893]\n",
      "  [1.51623356 1.88798509 1.44313929 1.92874159 1.75611556]]]\n",
      "\n",
      "[[[ 25.  25.   0.  75.  75.]\n",
      "  [ 75.  25.  75.  75.  25.]\n",
      "  [ 75.  25.  75.  25.  75.]]\n",
      "\n",
      " [[ 75.  25.  25.  75.  25.]\n",
      "  [100.  75.  75.  75.  25.]\n",
      "  [ 25.  75.  25.  75.  75.]]]\n"
     ]
    }
   ],
   "source": [
    "# your code here\n",
    "\n",
    "print(d)\n",
    "\n",
    "print()\n",
    "\n",
    "print(f)"
   ]
  },
  {
   "cell_type": "markdown",
   "metadata": {},
   "source": [
    "#### 18. Bonus question: instead of using numbers (i.e. 0, 25, 50, 75, and 100), use string values  (\"A\", \"B\", \"C\", \"D\", and \"E\") to label the array elements. For the example above, the expected result is:\n",
    "\n",
    "```python\n",
    "[[[ 'D',  'D',  'D',  'B',  'D'],\n",
    "[ 'D',  'D',  'B',  'B',  'B'],\n",
    "[ 'D',  'B',  'D',  'D',  'D']],\n",
    "[[ 'B',  'B',  'B',  'B',  'E'],\n",
    "[ 'D',  'D',  'D',  'D',  'D'],\n",
    "[ 'B',  'D',   'A',  'D', 'D']]]\n",
    "```\n",
    "**Note**: you don't have to use Numpy in this question."
   ]
  },
  {
   "cell_type": "code",
   "execution_count": 75,
   "metadata": {},
   "outputs": [],
   "source": [
    "# your code here"
   ]
  },
  {
   "cell_type": "code",
   "execution_count": null,
   "metadata": {},
   "outputs": [],
   "source": []
  }
 ],
 "metadata": {
  "kernelspec": {
   "display_name": "Python 3",
   "language": "python",
   "name": "python3"
  },
  "language_info": {
   "codemirror_mode": {
    "name": "ipython",
    "version": 3
   },
   "file_extension": ".py",
   "mimetype": "text/x-python",
   "name": "python",
   "nbconvert_exporter": "python",
   "pygments_lexer": "ipython3",
   "version": "3.7.6"
  }
 },
 "nbformat": 4,
 "nbformat_minor": 2
}
