{
 "cells": [
  {
   "cell_type": "code",
   "execution_count": 1,
   "metadata": {},
   "outputs": [
    {
     "name": "stdout",
     "output_type": "stream",
     "text": [
      "What is the maximal length of the triangle side? Enter a number: 7\n",
      "The longest side possible is 5\n"
     ]
    }
   ],
   "source": [
    "def longest_side_length(max_length):\n",
    "    solutions = []\n",
    "    for x in range(5, max_length):\n",
    "        for y in range(4, max_length):\n",
    "            for z in range(3, max_length):\n",
    "                if (x**2 == y**2 + z**2):\n",
    "                    solutions.append([x, y, z])\n",
    "    \n",
    "    for number in solutions:\n",
    "        longest_side = max(number) \n",
    "    \n",
    "    return longest_side\n",
    "\n",
    "max_len = input(\"What is the maximal length of the triangle side? Enter a number: \")\n",
    "\n",
    "print(\"The longest side possible is \" + str(longest_side_length(int(max_len))))"
   ]
  },
  {
   "cell_type": "code",
   "execution_count": null,
   "metadata": {},
   "outputs": [],
   "source": []
  }
 ],
 "metadata": {
  "kernelspec": {
   "display_name": "Python 3",
   "language": "python",
   "name": "python3"
  },
  "language_info": {
   "codemirror_mode": {
    "name": "ipython",
    "version": 3
   },
   "file_extension": ".py",
   "mimetype": "text/x-python",
   "name": "python",
   "nbconvert_exporter": "python",
   "pygments_lexer": "ipython3",
   "version": "3.8.5"
  }
 },
 "nbformat": 4,
 "nbformat_minor": 4
}
