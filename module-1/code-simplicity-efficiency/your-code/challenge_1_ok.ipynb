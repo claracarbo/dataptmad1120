{
 "cells": [
  {
   "cell_type": "markdown",
   "metadata": {},
   "source": [
    "### Challenge 1 : code simplicity and efficiency"
   ]
  },
  {
   "cell_type": "code",
   "execution_count": null,
   "metadata": {},
   "outputs": [],
   "source": [
    "print('Welcome to this calculator!')\n",
    "print('It can add and subtract whole numbers from 1 to 5')"
   ]
  },
  {
   "cell_type": "code",
   "execution_count": null,
   "metadata": {},
   "outputs": [],
   "source": [
    "input_first_number = input('Please choose your first number (0 to 5):  ')\n",
    "first_number = int(input_first_number)\n",
    "\n",
    "if first_number not in [0,1,2,3,4,5]:\n",
    "    raise ValueError(\"Input should be an interger from 0 to 5\")"
   ]
  },
  {
   "cell_type": "code",
   "execution_count": null,
   "metadata": {},
   "outputs": [],
   "source": [
    "input_second_number = input('Please choose your second number (0 to 5): ')\n",
    "second_number = int(input_second_number)\n",
    "\n",
    "if second_number not in [0,1,2,3,4,5]:\n",
    "    raise ValueError(\"Input should be an interger from 0 to 5\")"
   ]
  },
  {
   "cell_type": "code",
   "execution_count": null,
   "metadata": {},
   "outputs": [],
   "source": [
    "arithmetic_operation = input('Do you want to add or subtract? Enter + or - : ')"
   ]
  },
  {
   "cell_type": "code",
   "execution_count": null,
   "metadata": {},
   "outputs": [],
   "source": [
    "def add(x, y):\n",
    "    return x + y"
   ]
  },
  {
   "cell_type": "code",
   "execution_count": null,
   "metadata": {},
   "outputs": [],
   "source": [
    "def subtract(x, y):\n",
    "    return x - y"
   ]
  },
  {
   "cell_type": "code",
   "execution_count": null,
   "metadata": {},
   "outputs": [],
   "source": [
    "if arithmetic_operation == \"+\":\n",
    "    print(first_number, arithmetic_operation, second_number, \"=\", add(first_number, second_number))\n",
    "elif arithmetic_operation == \"-\":\n",
    "    print(first_number, arithmetic_operation, second_number, \"=\", subtract(first_number, second_number))\n",
    "else:\n",
    "    print(\"Check out the input of the arithmetic_operation\")"
   ]
  },
  {
   "cell_type": "code",
   "execution_count": null,
   "metadata": {},
   "outputs": [],
   "source": []
  }
 ],
 "metadata": {
  "kernelspec": {
   "display_name": "Python 3",
   "language": "python",
   "name": "python3"
  },
  "language_info": {
   "codemirror_mode": {
    "name": "ipython",
    "version": 3
   },
   "file_extension": ".py",
   "mimetype": "text/x-python",
   "name": "python",
   "nbconvert_exporter": "python",
   "pygments_lexer": "ipython3",
   "version": "3.8.5"
  }
 },
 "nbformat": 4,
 "nbformat_minor": 4
}
