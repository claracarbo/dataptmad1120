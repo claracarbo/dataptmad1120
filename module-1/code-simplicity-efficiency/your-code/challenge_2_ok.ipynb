{
 "cells": [
  {
   "cell_type": "code",
   "execution_count": 2,
   "metadata": {},
   "outputs": [],
   "source": [
    "import random\n",
    "import string"
   ]
  },
  {
   "cell_type": "code",
   "execution_count": 3,
   "metadata": {},
   "outputs": [
    {
     "name": "stdout",
     "output_type": "stream",
     "text": [
      "Enter min string length: 1\n"
     ]
    }
   ],
   "source": [
    "a = input(\"Enter min string length: \")"
   ]
  },
  {
   "cell_type": "code",
   "execution_count": 4,
   "metadata": {},
   "outputs": [
    {
     "name": "stdout",
     "output_type": "stream",
     "text": [
      "Enter max string length: 10\n"
     ]
    }
   ],
   "source": [
    "b = input(\"Enter max string length: \")"
   ]
  },
  {
   "cell_type": "code",
   "execution_count": 5,
   "metadata": {},
   "outputs": [
    {
     "name": "stdout",
     "output_type": "stream",
     "text": [
      "Indicate how many random strings you would like to generate: 3\n"
     ]
    }
   ],
   "source": [
    "n= input(\"Indicate how many random strings you would like to generate: \")"
   ]
  },
  {
   "cell_type": "code",
   "execution_count": 9,
   "metadata": {},
   "outputs": [],
   "source": [
    "def BatchStringGenerator(a,b,n):\n",
    "    if a < b:\n",
    "        letters = string.ascii_lowercase + string.digits\n",
    "        random_string = [\"\".join(random.choice(letters) for i in range(a,b)) for i in range(n)]\n",
    "        return random_string\n",
    "    \n",
    "    else:\n",
    "        return \"Incorrect string length. Please try again\""
   ]
  },
  {
   "cell_type": "code",
   "execution_count": 10,
   "metadata": {},
   "outputs": [
    {
     "name": "stdout",
     "output_type": "stream",
     "text": [
      "['9qogrqzga', 'lvtp7wnnj', 'lm0iqwdsr']\n"
     ]
    }
   ],
   "source": [
    "print(BatchStringGenerator(int(a),int(b),int(n)))"
   ]
  },
  {
   "cell_type": "code",
   "execution_count": null,
   "metadata": {},
   "outputs": [],
   "source": []
  }
 ],
 "metadata": {
  "kernelspec": {
   "display_name": "Python 3",
   "language": "python",
   "name": "python3"
  },
  "language_info": {
   "codemirror_mode": {
    "name": "ipython",
    "version": 3
   },
   "file_extension": ".py",
   "mimetype": "text/x-python",
   "name": "python",
   "nbconvert_exporter": "python",
   "pygments_lexer": "ipython3",
   "version": "3.8.5"
  }
 },
 "nbformat": 4,
 "nbformat_minor": 4
}
